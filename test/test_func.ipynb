{
 "cells": [
  {
   "cell_type": "code",
   "execution_count": 21,
   "id": "initial_id",
   "metadata": {
    "collapsed": true,
    "ExecuteTime": {
     "end_time": "2024-10-21T11:54:39.135290Z",
     "start_time": "2024-10-21T11:54:39.130288Z"
    }
   },
   "outputs": [],
   "source": [
    "from datetime import datetime\n",
    "\n",
    "now = datetime.now().strftime(\"%H:%M:%S\")"
   ]
  },
  {
   "cell_type": "code",
   "outputs": [
    {
     "data": {
      "text/plain": "'19:54:39'"
     },
     "execution_count": 22,
     "metadata": {},
     "output_type": "execute_result"
    }
   ],
   "source": [
    "now"
   ],
   "metadata": {
    "collapsed": false,
    "ExecuteTime": {
     "end_time": "2024-10-21T11:54:40.158645Z",
     "start_time": "2024-10-21T11:54:40.154675Z"
    }
   },
   "id": "8d352a4f6569735f",
   "execution_count": 22
  },
  {
   "cell_type": "code",
   "outputs": [],
   "source": [
    "target_time = datetime.strptime(\"19:59:00\", \"%H:%M:%S\")"
   ],
   "metadata": {
    "collapsed": false,
    "ExecuteTime": {
     "end_time": "2024-10-21T11:54:41.207Z",
     "start_time": "2024-10-21T11:54:41.203001Z"
    }
   },
   "id": "738438268145722c",
   "execution_count": 23
  },
  {
   "cell_type": "code",
   "outputs": [],
   "source": [
    "s_time = target_time - datetime.strptime(now, \"%H:%M:%S\")"
   ],
   "metadata": {
    "collapsed": false,
    "ExecuteTime": {
     "end_time": "2024-10-21T11:54:42.024835Z",
     "start_time": "2024-10-21T11:54:42.018835Z"
    }
   },
   "id": "50f63fc479b73da7",
   "execution_count": 24
  },
  {
   "cell_type": "code",
   "outputs": [
    {
     "data": {
      "text/plain": "261.0"
     },
     "execution_count": 25,
     "metadata": {},
     "output_type": "execute_result"
    }
   ],
   "source": [
    "s_time.total_seconds()"
   ],
   "metadata": {
    "collapsed": false,
    "ExecuteTime": {
     "end_time": "2024-10-21T11:54:42.426982Z",
     "start_time": "2024-10-21T11:54:42.420984Z"
    }
   },
   "id": "920b6b4b249cb729",
   "execution_count": 25
  },
  {
   "cell_type": "code",
   "outputs": [],
   "source": [
    "from PyQt5.Qt import QTime\n",
    "\n",
    "current_time = QTime.currentTime()"
   ],
   "metadata": {
    "collapsed": false,
    "ExecuteTime": {
     "end_time": "2024-10-23T06:15:37.735943Z",
     "start_time": "2024-10-23T06:15:33.102624Z"
    }
   },
   "id": "48f9672a0d824b",
   "execution_count": 1
  },
  {
   "cell_type": "code",
   "outputs": [
    {
     "data": {
      "text/plain": "PyQt5.QtCore.QTime(14, 15, 37, 731)"
     },
     "execution_count": 2,
     "metadata": {},
     "output_type": "execute_result"
    }
   ],
   "source": [
    "current_time"
   ],
   "metadata": {
    "collapsed": false,
    "ExecuteTime": {
     "end_time": "2024-10-23T06:15:40.898369Z",
     "start_time": "2024-10-23T06:15:40.864467Z"
    }
   },
   "id": "9d7487e9baa2ecf0",
   "execution_count": 2
  },
  {
   "cell_type": "code",
   "outputs": [],
   "source": [
    "target_time = QTime(12, 00, 00)"
   ],
   "metadata": {
    "collapsed": false,
    "ExecuteTime": {
     "end_time": "2024-10-23T06:18:24.458358Z",
     "start_time": "2024-10-23T06:18:24.450745Z"
    }
   },
   "id": "25df61fbc66bc373",
   "execution_count": 5
  },
  {
   "cell_type": "code",
   "outputs": [
    {
     "data": {
      "text/plain": "-8137"
     },
     "execution_count": 10,
     "metadata": {},
     "output_type": "execute_result"
    }
   ],
   "source": [
    "current_time.secsTo(target_time)"
   ],
   "metadata": {
    "collapsed": false,
    "ExecuteTime": {
     "end_time": "2024-10-23T06:19:41.917113Z",
     "start_time": "2024-10-23T06:19:41.913663Z"
    }
   },
   "id": "f0876e1657d41e3",
   "execution_count": 10
  },
  {
   "cell_type": "code",
   "outputs": [
    {
     "data": {
      "text/plain": "'12:00:00'"
     },
     "execution_count": 7,
     "metadata": {},
     "output_type": "execute_result"
    }
   ],
   "source": [],
   "metadata": {
    "collapsed": false,
    "ExecuteTime": {
     "end_time": "2024-10-23T06:18:39.421213Z",
     "start_time": "2024-10-23T06:18:39.407485Z"
    }
   },
   "id": "1007ef16270e7c",
   "execution_count": 7
  },
  {
   "cell_type": "code",
   "outputs": [],
   "source": [
    "from datetime import datetime"
   ],
   "metadata": {
    "collapsed": false,
    "ExecuteTime": {
     "end_time": "2024-10-23T06:24:51.969196Z",
     "start_time": "2024-10-23T06:24:51.967101Z"
    }
   },
   "id": "d9c2931e82d72eff",
   "execution_count": 11
  },
  {
   "cell_type": "code",
   "outputs": [
    {
     "data": {
      "text/plain": "datetime.datetime(1900, 1, 1, 12, 0)"
     },
     "execution_count": 12,
     "metadata": {},
     "output_type": "execute_result"
    }
   ],
   "source": [
    "datetime.strptime(\"12:00:00\", \"%H:%M:%S\")"
   ],
   "metadata": {
    "collapsed": false,
    "ExecuteTime": {
     "end_time": "2024-10-23T06:25:08.895544Z",
     "start_time": "2024-10-23T06:25:08.892337Z"
    }
   },
   "id": "8a6231ac1b05c564",
   "execution_count": 12
  },
  {
   "cell_type": "code",
   "outputs": [
    {
     "data": {
      "text/plain": "datetime.time(12, 0, 10)"
     },
     "execution_count": 14,
     "metadata": {},
     "output_type": "execute_result"
    }
   ],
   "source": [
    "datetime.strptime(\"12:00:00\", \"%H:%M:%S\").time()"
   ],
   "metadata": {
    "collapsed": false,
    "ExecuteTime": {
     "end_time": "2024-10-23T06:25:42.204515Z",
     "start_time": "2024-10-23T06:25:42.194148Z"
    }
   },
   "id": "30ff9982b5a23ba3",
   "execution_count": 14
  },
  {
   "cell_type": "code",
   "outputs": [],
   "source": [],
   "metadata": {
    "collapsed": false
   },
   "id": "418bf6acf5c8a4e2"
  }
 ],
 "metadata": {
  "kernelspec": {
   "display_name": "Python 3",
   "language": "python",
   "name": "python3"
  },
  "language_info": {
   "codemirror_mode": {
    "name": "ipython",
    "version": 2
   },
   "file_extension": ".py",
   "mimetype": "text/x-python",
   "name": "python",
   "nbconvert_exporter": "python",
   "pygments_lexer": "ipython2",
   "version": "2.7.6"
  }
 },
 "nbformat": 4,
 "nbformat_minor": 5
}
