{
 "cells": [
  {
   "cell_type": "code",
   "execution_count": 5,
   "id": "initial_id",
   "metadata": {
    "collapsed": true,
    "ExecuteTime": {
     "end_time": "2024-10-30T04:50:50.105926Z",
     "start_time": "2024-10-30T04:50:50.098908Z"
    }
   },
   "outputs": [],
   "source": [
    "import requests\n",
    "from datetime import datetime\n",
    "from pytz import timezone,utc\n",
    "\n",
    "def get_server_time(url):\n",
    "    try:\n",
    "        response = requests.head(url, timeout=10)\n",
    "        server_time_str = response.headers.get(\"Date\")  # string\n",
    "\n",
    "    except requests.RequestException as e:\n",
    "        print(f\"Error fetching server time: {e}\")\n",
    "    else:\n",
    "        server_time = datetime.strptime(server_time_str, \"%a, %d %b %Y %H:%M:%S %Z\")\n",
    "        server_time = server_time.replace(tzinfo=utc)\n",
    "        local_tz = timezone(\"Asia/Shanghai\")\n",
    "        server_time = server_time.astimezone(local_tz)\n",
    "\n",
    "        return server_time.time()"
   ]
  },
  {
   "cell_type": "code",
   "outputs": [],
   "source": [
    "url = r\"https://oa.shanghaitech.edu.cn/workflow/request/AddRequest.jsp?workflowid=14862&t_s=1648003625917&amp_sec_version_=1&gid_=dHArWDUwc2pjeWJMRlk3RlhKaEJoaG1vbmI3VE9PeE03Z1dGSlFVazIxWDVwcE9Zcnk5a2pIazdtTGM2eHFIVFRPS3NFNmVMYmIrRWNWUG1TZlg5RFE9PQ&EMAP_LANG=zh&THEME=cherry\""
   ],
   "metadata": {
    "collapsed": false,
    "ExecuteTime": {
     "end_time": "2024-10-30T04:50:50.709976Z",
     "start_time": "2024-10-30T04:50:50.705991Z"
    }
   },
   "id": "78564bdf491bff0f",
   "execution_count": 6
  },
  {
   "cell_type": "code",
   "outputs": [],
   "source": [
    "get_server_time(url)\n",
    "import time"
   ],
   "metadata": {
    "collapsed": false,
    "ExecuteTime": {
     "end_time": "2024-10-30T04:50:51.616886Z",
     "start_time": "2024-10-30T04:50:51.559857Z"
    }
   },
   "id": "2372a9ab226ca538",
   "execution_count": 7
  },
  {
   "cell_type": "code",
   "outputs": [
    {
     "name": "stdout",
     "output_type": "stream",
     "text": [
      "server_time: 12:51:36\n",
      "local_time: 12:51:37.657669\n"
     ]
    }
   ],
   "source": [
    "\n",
    "server_time = get_server_time(url)\n",
    "print(\"server_time:\", server_time)\n",
    "local_time = datetime.now().time()\n",
    "print(\"local_time:\", local_time)    \n",
    "# time_temp = datetime.strptime(\"14:55:30\", \"%H:%M:%S\").time()\n",
    "# while server_time < time_temp:\n",
    "#     server_time = get_server_time(url)d's'asa\n",
    "#     print(\"server_time:\", server_time)\n",
    "#     time.sleep(0.4)\n",
    "# print(\"test finished\")"
   ],
   "metadata": {
    "collapsed": false,
    "ExecuteTime": {
     "end_time": "2024-10-30T04:51:37.660650Z",
     "start_time": "2024-10-30T04:51:37.553663Z"
    }
   },
   "id": "a4fcf4b253d60c95",
   "execution_count": 9
  },
  {
   "cell_type": "code",
   "outputs": [],
   "source": [],
   "metadata": {
    "collapsed": false
   },
   "id": "d2844f44a2664b7b"
  }
 ],
 "metadata": {
  "kernelspec": {
   "display_name": "Python 3",
   "language": "python",
   "name": "python3"
  },
  "language_info": {
   "codemirror_mode": {
    "name": "ipython",
    "version": 2
   },
   "file_extension": ".py",
   "mimetype": "text/x-python",
   "name": "python",
   "nbconvert_exporter": "python",
   "pygments_lexer": "ipython2",
   "version": "2.7.6"
  }
 },
 "nbformat": 4,
 "nbformat_minor": 5
}
